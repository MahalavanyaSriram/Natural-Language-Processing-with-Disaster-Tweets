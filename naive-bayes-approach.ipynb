{
 "cells": [
  {
   "cell_type": "code",
   "execution_count": 1,
   "metadata": {
    "_cell_guid": "b1076dfc-b9ad-4769-8c92-a6c4dae69d19",
    "_uuid": "8f2839f25d086af736a60e9eeb907d3b93b6e0e5",
    "execution": {
     "iopub.execute_input": "2020-10-22T16:09:47.668030Z",
     "iopub.status.busy": "2020-10-22T16:09:47.667268Z",
     "iopub.status.idle": "2020-10-22T16:09:47.671848Z",
     "shell.execute_reply": "2020-10-22T16:09:47.672443Z"
    },
    "papermill": {
     "duration": 0.025541,
     "end_time": "2020-10-22T16:09:47.672612",
     "exception": false,
     "start_time": "2020-10-22T16:09:47.647071",
     "status": "completed"
    },
    "tags": []
   },
   "outputs": [
    {
     "name": "stdout",
     "output_type": "stream",
     "text": [
      "/kaggle/input/nlp-getting-started/train.csv\n",
      "/kaggle/input/nlp-getting-started/test.csv\n",
      "/kaggle/input/nlp-getting-started/sample_submission.csv\n"
     ]
    }
   ],
   "source": [
    "# This Python 3 environment comes with many helpful analytics libraries installed\n",
    "# It is defined by the kaggle/python Docker image: https://github.com/kaggle/docker-python\n",
    "# For example, here's several helpful packages to load\n",
    "\n",
    "import numpy as np # linear algebra\n",
    "import pandas as pd # data processing, CSV file I/O (e.g. pd.read_csv)\n",
    "\n",
    "# Input data files are available in the read-only \"../input/\" directory\n",
    "# For example, running this (by clicking run or pressing Shift+Enter) will list all files under the input directory\n",
    "\n",
    "import os\n",
    "for dirname, _, filenames in os.walk('/kaggle/input'):\n",
    "    for filename in filenames:\n",
    "        print(os.path.join(dirname, filename))\n",
    "\n",
    "# You can write up to 5GB to the current directory (/kaggle/working/) that gets preserved as output when you create a version using \"Save & Run All\" \n",
    "# You can also write temporary files to /kaggle/temp/, but they won't be saved outside of the current session"
   ]
  },
  {
   "cell_type": "code",
   "execution_count": 2,
   "metadata": {
    "_cell_guid": "79c7e3d0-c299-4dcb-8224-4455121ee9b0",
    "_uuid": "d629ff2d2480ee46fbb7e2d37f6b5fab8052498a",
    "execution": {
     "iopub.execute_input": "2020-10-22T16:09:47.703635Z",
     "iopub.status.busy": "2020-10-22T16:09:47.702921Z",
     "iopub.status.idle": "2020-10-22T16:09:48.760105Z",
     "shell.execute_reply": "2020-10-22T16:09:48.759305Z"
    },
    "papermill": {
     "duration": 1.074217,
     "end_time": "2020-10-22T16:09:48.760233",
     "exception": false,
     "start_time": "2020-10-22T16:09:47.686016",
     "status": "completed"
    },
    "tags": []
   },
   "outputs": [],
   "source": [
    "from sklearn import feature_extraction, linear_model, model_selection, preprocessing\n",
    "from sklearn.feature_extraction.text import CountVectorizer"
   ]
  },
  {
   "cell_type": "code",
   "execution_count": 3,
   "metadata": {
    "execution": {
     "iopub.execute_input": "2020-10-22T16:09:48.793131Z",
     "iopub.status.busy": "2020-10-22T16:09:48.792365Z",
     "iopub.status.idle": "2020-10-22T16:09:48.866031Z",
     "shell.execute_reply": "2020-10-22T16:09:48.865253Z"
    },
    "papermill": {
     "duration": 0.092962,
     "end_time": "2020-10-22T16:09:48.866161",
     "exception": false,
     "start_time": "2020-10-22T16:09:48.773199",
     "status": "completed"
    },
    "tags": []
   },
   "outputs": [],
   "source": [
    "train_df = pd.read_csv(\"/kaggle/input/nlp-getting-started/train.csv\")\n",
    "test_df = pd.read_csv(\"/kaggle/input/nlp-getting-started/test.csv\")"
   ]
  },
  {
   "cell_type": "code",
   "execution_count": 4,
   "metadata": {
    "execution": {
     "iopub.execute_input": "2020-10-22T16:09:48.903005Z",
     "iopub.status.busy": "2020-10-22T16:09:48.902034Z",
     "iopub.status.idle": "2020-10-22T16:09:48.939397Z",
     "shell.execute_reply": "2020-10-22T16:09:48.938660Z"
    },
    "papermill": {
     "duration": 0.060192,
     "end_time": "2020-10-22T16:09:48.939526",
     "exception": false,
     "start_time": "2020-10-22T16:09:48.879334",
     "status": "completed"
    },
    "tags": []
   },
   "outputs": [
    {
     "name": "stdout",
     "output_type": "stream",
     "text": [
      "         id  keyword location  \\\n",
      "15       23      NaN      NaN   \n",
      "16       24      NaN      NaN   \n",
      "17       25      NaN      NaN   \n",
      "18       26      NaN      NaN   \n",
      "19       28      NaN      NaN   \n",
      "...     ...      ...      ...   \n",
      "7581  10833  wrecked  Lincoln   \n",
      "7582  10834  wrecked      NaN   \n",
      "7584  10837      NaN      NaN   \n",
      "7587  10841      NaN      NaN   \n",
      "7593  10848      NaN      NaN   \n",
      "\n",
      "                                                   text  target  \n",
      "15                                       What's up man?       0  \n",
      "16                                        I love fruits       0  \n",
      "17                                     Summer is lovely       0  \n",
      "18                                    My car is so fast       0  \n",
      "19                         What a goooooooaaaaaal!!!!!!       0  \n",
      "...                                                 ...     ...  \n",
      "7581  @engineshed Great atmosphere at the British Li...       0  \n",
      "7582  Cramer: Iger's 3 words that wrecked Disney's s...       0  \n",
      "7584  These boxes are ready to explode! Exploding Ki...       0  \n",
      "7587                                 Sirens everywhere!       0  \n",
      "7593  I just heard a really loud bang and everyone i...       0  \n",
      "\n",
      "[4342 rows x 5 columns]\n",
      "         id keyword location  \\\n",
      "0         1     NaN      NaN   \n",
      "1         4     NaN      NaN   \n",
      "2         5     NaN      NaN   \n",
      "3         6     NaN      NaN   \n",
      "4         7     NaN      NaN   \n",
      "...     ...     ...      ...   \n",
      "7608  10869     NaN      NaN   \n",
      "7609  10870     NaN      NaN   \n",
      "7610  10871     NaN      NaN   \n",
      "7611  10872     NaN      NaN   \n",
      "7612  10873     NaN      NaN   \n",
      "\n",
      "                                                   text  target  \n",
      "0     Our Deeds are the Reason of this #earthquake M...       1  \n",
      "1                Forest fire near La Ronge Sask. Canada       1  \n",
      "2     All residents asked to 'shelter in place' are ...       1  \n",
      "3     13,000 people receive #wildfires evacuation or...       1  \n",
      "4     Just got sent this photo from Ruby #Alaska as ...       1  \n",
      "...                                                 ...     ...  \n",
      "7608  Two giant cranes holding a bridge collapse int...       1  \n",
      "7609  @aria_ahrary @TheTawniest The out of control w...       1  \n",
      "7610  M1.94 [01:04 UTC]?5km S of Volcano Hawaii. htt...       1  \n",
      "7611  Police investigating after an e-bike collided ...       1  \n",
      "7612  The Latest: More Homes Razed by Northern Calif...       1  \n",
      "\n",
      "[3271 rows x 5 columns]\n"
     ]
    }
   ],
   "source": [
    "print(train_df[train_df[\"target\"]==0])\n",
    "print(train_df[train_df[\"target\"]==1])"
   ]
  },
  {
   "cell_type": "markdown",
   "metadata": {
    "papermill": {
     "duration": 0.013202,
     "end_time": "2020-10-22T16:09:48.967860",
     "exception": false,
     "start_time": "2020-10-22T16:09:48.954658",
     "status": "completed"
    },
    "tags": []
   },
   "source": [
    "Using the sklearn classes CountVectorizer and TfidfTransformer to create a training set using all rows of the ‘TEXT’ column from the train_df."
   ]
  },
  {
   "cell_type": "code",
   "execution_count": 5,
   "metadata": {
    "execution": {
     "iopub.execute_input": "2020-10-22T16:09:49.024417Z",
     "iopub.status.busy": "2020-10-22T16:09:49.003593Z",
     "iopub.status.idle": "2020-10-22T16:09:49.289891Z",
     "shell.execute_reply": "2020-10-22T16:09:49.289052Z"
    },
    "papermill": {
     "duration": 0.308631,
     "end_time": "2020-10-22T16:09:49.290059",
     "exception": false,
     "start_time": "2020-10-22T16:09:48.981428",
     "status": "completed"
    },
    "tags": []
   },
   "outputs": [
    {
     "name": "stdout",
     "output_type": "stream",
     "text": [
      "Shape: (7613, 21637)\n",
      "\n",
      "fire: 7439\n",
      "\n"
     ]
    }
   ],
   "source": [
    "count_vect = CountVectorizer()\n",
    "\n",
    "X_train_counts = count_vect.fit_transform(list(train_df[\"text\"]))\n",
    "print('Shape: ' + str(X_train_counts.shape) + '\\n')\n",
    "print('fire: '+ str(count_vect.vocabulary_.get('fire')) + '\\n')\n",
    "# print('All words in train_df: ' + str(count_vect.vocabulary_) + '\\n')"
   ]
  },
  {
   "cell_type": "code",
   "execution_count": 6,
   "metadata": {
    "execution": {
     "iopub.execute_input": "2020-10-22T16:09:49.326271Z",
     "iopub.status.busy": "2020-10-22T16:09:49.325475Z",
     "iopub.status.idle": "2020-10-22T16:09:49.348463Z",
     "shell.execute_reply": "2020-10-22T16:09:49.347592Z"
    },
    "papermill": {
     "duration": 0.043669,
     "end_time": "2020-10-22T16:09:49.348623",
     "exception": false,
     "start_time": "2020-10-22T16:09:49.304954",
     "status": "completed"
    },
    "tags": []
   },
   "outputs": [
    {
     "name": "stdout",
     "output_type": "stream",
     "text": [
      "(7613, 21637)\n",
      "(7613, 21637)\n"
     ]
    }
   ],
   "source": [
    "from sklearn.feature_extraction.text import TfidfTransformer\n",
    "\n",
    "tf_transformer = TfidfTransformer(use_idf=False).fit(X_train_counts)\n",
    "X_train_tf = tf_transformer.transform(X_train_counts)\n",
    "print(X_train_tf.shape)\n",
    "\n",
    "tfidf_transformer = TfidfTransformer()\n",
    "X_train_tfidf = tfidf_transformer.fit_transform(X_train_counts)\n",
    "print(X_train_tfidf.shape)"
   ]
  },
  {
   "cell_type": "markdown",
   "metadata": {
    "papermill": {
     "duration": 0.015543,
     "end_time": "2020-10-22T16:09:49.384547",
     "exception": false,
     "start_time": "2020-10-22T16:09:49.369004",
     "status": "completed"
    },
    "tags": []
   },
   "source": [
    "Training and fitting a Multinomial Naive Bayes algorithm on the training data. The target variable is the ‘target’ column in train_df and test_df."
   ]
  },
  {
   "cell_type": "code",
   "execution_count": 7,
   "metadata": {
    "execution": {
     "iopub.execute_input": "2020-10-22T16:09:49.421400Z",
     "iopub.status.busy": "2020-10-22T16:09:49.420626Z",
     "iopub.status.idle": "2020-10-22T16:09:49.431631Z",
     "shell.execute_reply": "2020-10-22T16:09:49.430902Z"
    },
    "papermill": {
     "duration": 0.032318,
     "end_time": "2020-10-22T16:09:49.431782",
     "exception": false,
     "start_time": "2020-10-22T16:09:49.399464",
     "status": "completed"
    },
    "tags": []
   },
   "outputs": [],
   "source": [
    "from sklearn.naive_bayes import MultinomialNB\n",
    "clf = MultinomialNB().fit(X_train_tfidf, train_df['target'])\n",
    "\n",
    "def find_the_language(docs_new):\n",
    "    X_new_counts = count_vect.transform(docs_new)\n",
    "    X_new_tfidf = tfidf_transformer.transform(X_new_counts)\n",
    "    \n",
    "    predicted = clf.predict(X_new_tfidf)\n",
    "    return predicted\n",
    "    \n",
    "    # for doc, category in zip(docs_new, predicted):\n",
    "    #     print('%r => %s' % (doc, category))"
   ]
  },
  {
   "cell_type": "code",
   "execution_count": 8,
   "metadata": {
    "execution": {
     "iopub.execute_input": "2020-10-22T16:09:49.469772Z",
     "iopub.status.busy": "2020-10-22T16:09:49.468871Z",
     "iopub.status.idle": "2020-10-22T16:09:49.474575Z",
     "shell.execute_reply": "2020-10-22T16:09:49.473940Z"
    },
    "papermill": {
     "duration": 0.02738,
     "end_time": "2020-10-22T16:09:49.474704",
     "exception": false,
     "start_time": "2020-10-22T16:09:49.447324",
     "status": "completed"
    },
    "tags": []
   },
   "outputs": [
    {
     "name": "stdout",
     "output_type": "stream",
     "text": [
      "['Just happened a terrible car crash', 'Heard about #earthquake is different cities, stay safe everyone.']\n",
      "[1 0]\n"
     ]
    }
   ],
   "source": [
    "docs_new = [test_df['text'][0], test_df['text'][1]]\n",
    "print(docs_new)\n",
    "print(find_the_language(docs_new))"
   ]
  },
  {
   "cell_type": "code",
   "execution_count": 9,
   "metadata": {
    "execution": {
     "iopub.execute_input": "2020-10-22T16:09:49.514307Z",
     "iopub.status.busy": "2020-10-22T16:09:49.513520Z",
     "iopub.status.idle": "2020-10-22T16:09:49.517315Z",
     "shell.execute_reply": "2020-10-22T16:09:49.517859Z"
    },
    "papermill": {
     "duration": 0.026791,
     "end_time": "2020-10-22T16:09:49.518011",
     "exception": false,
     "start_time": "2020-10-22T16:09:49.491220",
     "status": "completed"
    },
    "tags": []
   },
   "outputs": [
    {
     "name": "stdout",
     "output_type": "stream",
     "text": [
      "['Just happened a terrible car crash', 'Heard about #earthquake is different cities, stay safe everyone.', 'there is a forest fire at spot pond, geese are fleeing across the street, I cannot save them all', 'Apocalypse lighting. #Spokane #wildfires', 'Typhoon Soudelor kills 28 in China and Taiwan', \"We're shaking...It's an earthquake\", \"They'd probably still show more life than Arsenal did yesterday, eh? EH?\", 'Hey! How are you?', 'What a nice hat?', 'Fuck off!']\n"
     ]
    }
   ],
   "source": [
    "docs_new = []\n",
    "for sentence in test_df['text']:\n",
    "  docs_new.append(sentence)\n",
    "\n",
    "print(docs_new[0:10])"
   ]
  },
  {
   "cell_type": "code",
   "execution_count": 10,
   "metadata": {
    "execution": {
     "iopub.execute_input": "2020-10-22T16:09:49.595441Z",
     "iopub.status.busy": "2020-10-22T16:09:49.580043Z",
     "iopub.status.idle": "2020-10-22T16:09:49.655910Z",
     "shell.execute_reply": "2020-10-22T16:09:49.655124Z"
    },
    "papermill": {
     "duration": 0.121512,
     "end_time": "2020-10-22T16:09:49.656038",
     "exception": false,
     "start_time": "2020-10-22T16:09:49.534526",
     "status": "completed"
    },
    "tags": []
   },
   "outputs": [
    {
     "data": {
      "text/plain": [
       "array([1, 0, 1, ..., 1, 1, 1])"
      ]
     },
     "execution_count": 10,
     "metadata": {},
     "output_type": "execute_result"
    }
   ],
   "source": [
    "find_the_language(docs_new)"
   ]
  },
  {
   "cell_type": "code",
   "execution_count": 11,
   "metadata": {
    "execution": {
     "iopub.execute_input": "2020-10-22T16:09:49.696092Z",
     "iopub.status.busy": "2020-10-22T16:09:49.695336Z",
     "iopub.status.idle": "2020-10-22T16:09:49.705170Z",
     "shell.execute_reply": "2020-10-22T16:09:49.704422Z"
    },
    "papermill": {
     "duration": 0.032407,
     "end_time": "2020-10-22T16:09:49.705289",
     "exception": false,
     "start_time": "2020-10-22T16:09:49.672882",
     "status": "completed"
    },
    "tags": []
   },
   "outputs": [],
   "source": [
    "sample_submission = pd.read_csv(\"/kaggle/input/nlp-getting-started/sample_submission.csv\")"
   ]
  },
  {
   "cell_type": "code",
   "execution_count": 12,
   "metadata": {
    "execution": {
     "iopub.execute_input": "2020-10-22T16:09:49.778259Z",
     "iopub.status.busy": "2020-10-22T16:09:49.773264Z",
     "iopub.status.idle": "2020-10-22T16:09:49.847849Z",
     "shell.execute_reply": "2020-10-22T16:09:49.847116Z"
    },
    "papermill": {
     "duration": 0.12571,
     "end_time": "2020-10-22T16:09:49.847968",
     "exception": false,
     "start_time": "2020-10-22T16:09:49.722258",
     "status": "completed"
    },
    "tags": []
   },
   "outputs": [
    {
     "data": {
      "text/html": [
       "<div>\n",
       "<style scoped>\n",
       "    .dataframe tbody tr th:only-of-type {\n",
       "        vertical-align: middle;\n",
       "    }\n",
       "\n",
       "    .dataframe tbody tr th {\n",
       "        vertical-align: top;\n",
       "    }\n",
       "\n",
       "    .dataframe thead th {\n",
       "        text-align: right;\n",
       "    }\n",
       "</style>\n",
       "<table border=\"1\" class=\"dataframe\">\n",
       "  <thead>\n",
       "    <tr style=\"text-align: right;\">\n",
       "      <th></th>\n",
       "      <th>id</th>\n",
       "      <th>target</th>\n",
       "    </tr>\n",
       "  </thead>\n",
       "  <tbody>\n",
       "    <tr>\n",
       "      <th>0</th>\n",
       "      <td>0</td>\n",
       "      <td>1</td>\n",
       "    </tr>\n",
       "    <tr>\n",
       "      <th>1</th>\n",
       "      <td>2</td>\n",
       "      <td>0</td>\n",
       "    </tr>\n",
       "    <tr>\n",
       "      <th>2</th>\n",
       "      <td>3</td>\n",
       "      <td>1</td>\n",
       "    </tr>\n",
       "    <tr>\n",
       "      <th>3</th>\n",
       "      <td>9</td>\n",
       "      <td>1</td>\n",
       "    </tr>\n",
       "    <tr>\n",
       "      <th>4</th>\n",
       "      <td>11</td>\n",
       "      <td>1</td>\n",
       "    </tr>\n",
       "  </tbody>\n",
       "</table>\n",
       "</div>"
      ],
      "text/plain": [
       "   id  target\n",
       "0   0       1\n",
       "1   2       0\n",
       "2   3       1\n",
       "3   9       1\n",
       "4  11       1"
      ]
     },
     "execution_count": 12,
     "metadata": {},
     "output_type": "execute_result"
    }
   ],
   "source": [
    "sample_submission[\"target\"] = find_the_language(docs_new)\n",
    "sample_submission.head()"
   ]
  },
  {
   "cell_type": "code",
   "execution_count": 13,
   "metadata": {
    "execution": {
     "iopub.execute_input": "2020-10-22T16:09:49.889076Z",
     "iopub.status.busy": "2020-10-22T16:09:49.888043Z",
     "iopub.status.idle": "2020-10-22T16:09:50.334598Z",
     "shell.execute_reply": "2020-10-22T16:09:50.333637Z"
    },
    "papermill": {
     "duration": 0.469138,
     "end_time": "2020-10-22T16:09:50.334725",
     "exception": false,
     "start_time": "2020-10-22T16:09:49.865587",
     "status": "completed"
    },
    "tags": []
   },
   "outputs": [],
   "source": [
    "sample_submission.to_csv(\"submission.csv\", index=False)"
   ]
  }
 ],
 "metadata": {
  "kernelspec": {
   "display_name": "Python 3",
   "language": "python",
   "name": "python3"
  },
  "language_info": {
   "codemirror_mode": {
    "name": "ipython",
    "version": 3
   },
   "file_extension": ".py",
   "mimetype": "text/x-python",
   "name": "python",
   "nbconvert_exporter": "python",
   "pygments_lexer": "ipython3",
   "version": "3.7.6"
  },
  "papermill": {
   "duration": 7.432533,
   "end_time": "2020-10-22T16:09:50.468694",
   "environment_variables": {},
   "exception": null,
   "input_path": "__notebook__.ipynb",
   "output_path": "__notebook__.ipynb",
   "parameters": {},
   "start_time": "2020-10-22T16:09:43.036161",
   "version": "2.1.0"
  }
 },
 "nbformat": 4,
 "nbformat_minor": 4
}
