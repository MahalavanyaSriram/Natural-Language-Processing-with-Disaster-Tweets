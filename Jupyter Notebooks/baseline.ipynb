{
  "nbformat": 4,
  "nbformat_minor": 0,
  "metadata": {
    "kernelspec": {
      "display_name": "Python 3",
      "language": "python",
      "name": "python3"
    },
    "language_info": {
      "codemirror_mode": {
        "name": "ipython",
        "version": 3
      },
      "file_extension": ".py",
      "mimetype": "text/x-python",
      "name": "python",
      "nbconvert_exporter": "python",
      "pygments_lexer": "ipython3",
      "version": "3.6.6"
    },
    "colab": {
      "name": "baseline.ipynb",
      "provenance": []
    }
  },
  "cells": [
    {
      "cell_type": "markdown",
      "metadata": {
        "id": "LSUkeuTsqodE"
      },
      "source": [
        "## NLP\n",
        "\n",
        "NLP - or *Natural Language Processing* - is shorthand for a wide array of techniques designed to help machines learn from text. Natural Language Processing powers everything from chatbots to search engines, and is used in diverse tasks like sentiment analysis and machine translation.\n",
        "\n",
        "(Based on the NLP Tutorial on Kaggle)"
      ]
    },
    {
      "cell_type": "code",
      "metadata": {
        "_cell_guid": "b1076dfc-b9ad-4769-8c92-a6c4dae69d19",
        "_uuid": "8f2839f25d086af736a60e9eeb907d3b93b6e0e5",
        "id": "VFawYDpkqodF"
      },
      "source": [
        "import numpy as np # linear algebra\n",
        "import pandas as pd # data processing, CSV file I/O (e.g. pd.read_csv)\n",
        "from sklearn import feature_extraction, linear_model, model_selection, preprocessing"
      ],
      "execution_count": null,
      "outputs": []
    },
    {
      "cell_type": "code",
      "metadata": {
        "id": "KwqJmhzKqodG",
        "outputId": "e559b7b3-184c-4fd1-86d5-8d9e155e21ef"
      },
      "source": [
        "import os\n",
        "for dirname, _, filenames in os.walk('/kaggle/input'):\n",
        "    for filename in filenames:\n",
        "        print(os.path.join(dirname, filename))"
      ],
      "execution_count": null,
      "outputs": [
        {
          "output_type": "stream",
          "text": [
            "/kaggle/input/nlp-getting-started/sample_submission.csv\n",
            "/kaggle/input/nlp-getting-started/test.csv\n",
            "/kaggle/input/nlp-getting-started/train.csv\n"
          ],
          "name": "stdout"
        }
      ]
    },
    {
      "cell_type": "code",
      "metadata": {
        "_cell_guid": "79c7e3d0-c299-4dcb-8224-4455121ee9b0",
        "_uuid": "d629ff2d2480ee46fbb7e2d37f6b5fab8052498a",
        "id": "1PvRwvoSqodG"
      },
      "source": [
        "train_df = pd.read_csv(\"/kaggle/input/nlp-getting-started/train.csv\")\n",
        "test_df = pd.read_csv(\"/kaggle/input/nlp-getting-started/test.csv\")"
      ],
      "execution_count": null,
      "outputs": []
    },
    {
      "cell_type": "markdown",
      "metadata": {
        "id": "Y9Xjg92nqodH"
      },
      "source": [
        "### A quick look at our data\n",
        "\n",
        "Let's look at our data... first, an example of what is NOT a disaster tweet."
      ]
    },
    {
      "cell_type": "code",
      "metadata": {
        "id": "TMIOXJ5tqodH",
        "outputId": "04da43cc-4978-47b5-f0b4-dff5bcdce796"
      },
      "source": [
        "train_df[train_df[\"target\"]==0][\"text\"].values"
      ],
      "execution_count": null,
      "outputs": [
        {
          "output_type": "execute_result",
          "data": {
            "text/plain": [
              "array([\"What's up man?\", 'I love fruits', 'Summer is lovely', ...,\n",
              "       'These boxes are ready to explode! Exploding Kittens finally arrived! gameofkittens #explodingkittens\\x89Û_ https://t.co/TFGrAyuDC5',\n",
              "       'Sirens everywhere!',\n",
              "       'I just heard a really loud bang and everyone is asleep great'],\n",
              "      dtype=object)"
            ]
          },
          "metadata": {
            "tags": []
          },
          "execution_count": 4
        }
      ]
    },
    {
      "cell_type": "code",
      "metadata": {
        "id": "tfrec58iqodH",
        "outputId": "012284a8-f209-4763-c086-a7c2e9f175a8"
      },
      "source": [
        "train_df[train_df[\"target\"] == 0][\"text\"].values[1]"
      ],
      "execution_count": null,
      "outputs": [
        {
          "output_type": "execute_result",
          "data": {
            "text/plain": [
              "'I love fruits'"
            ]
          },
          "metadata": {
            "tags": []
          },
          "execution_count": 5
        }
      ]
    },
    {
      "cell_type": "markdown",
      "metadata": {
        "id": "4_ElsyeIqodI"
      },
      "source": [
        "And one that is:"
      ]
    },
    {
      "cell_type": "code",
      "metadata": {
        "id": "DCIuMHYtqodI",
        "outputId": "0bdaa23e-d6c1-40f3-9bf0-333934bbca79"
      },
      "source": [
        "train_df[train_df[\"target\"] == 1][\"text\"].values[1]"
      ],
      "execution_count": null,
      "outputs": [
        {
          "output_type": "execute_result",
          "data": {
            "text/plain": [
              "'Forest fire near La Ronge Sask. Canada'"
            ]
          },
          "metadata": {
            "tags": []
          },
          "execution_count": 6
        }
      ]
    },
    {
      "cell_type": "code",
      "metadata": {
        "id": "EwgNnLzoqodI",
        "outputId": "1074c482-21a0-43e1-a987-d4d948485bc3"
      },
      "source": [
        "train_df[train_df[\"target\"]==1][\"text\"].values"
      ],
      "execution_count": null,
      "outputs": [
        {
          "output_type": "execute_result",
          "data": {
            "text/plain": [
              "array(['Our Deeds are the Reason of this #earthquake May ALLAH Forgive us all',\n",
              "       'Forest fire near La Ronge Sask. Canada',\n",
              "       \"All residents asked to 'shelter in place' are being notified by officers. No other evacuation or shelter in place orders are expected\",\n",
              "       ...,\n",
              "       'M1.94 [01:04 UTC]?5km S of Volcano Hawaii. http://t.co/zDtoyd8EbJ',\n",
              "       'Police investigating after an e-bike collided with a car in Little Portugal. E-bike rider suffered serious non-life threatening injuries.',\n",
              "       'The Latest: More Homes Razed by Northern California Wildfire - ABC News http://t.co/YmY4rSkQ3d'],\n",
              "      dtype=object)"
            ]
          },
          "metadata": {
            "tags": []
          },
          "execution_count": 7
        }
      ]
    },
    {
      "cell_type": "markdown",
      "metadata": {
        "id": "jPtBTTSCqodJ"
      },
      "source": [
        "### Building vectors\n",
        "\n",
        "The theory behind the model we'll build in this notebook is pretty simple: the words contained in each tweet are a good indicator of whether they're about a real disaster or not (this is not entirely correct, but it's a great place to start).\n",
        "\n",
        "We'll use scikit-learn's `CountVectorizer` to count the words in each tweet and turn them into data our machine learning model can process.\n",
        "\n",
        "Note: a `vector` is, in this context, a set of numbers that a machine learning model can work with. We'll look at one in just a second."
      ]
    },
    {
      "cell_type": "code",
      "metadata": {
        "id": "SAQEZ1XuqodJ",
        "outputId": "c16b8939-62a3-4295-b2ee-96008a1ca5d2"
      },
      "source": [
        "count_vectorizer = feature_extraction.text.CountVectorizer()\n",
        "\n",
        "## let's get counts for the first 5 tweets in the data\n",
        "example_train_vectors = count_vectorizer.fit_transform(train_df[\"text\"][0:5])\n",
        "print(train_df[\"text\"][0:5].values)\n",
        "print(count_vectorizer.get_feature_names())\n",
        "print(count_vectorizer.vocabulary_)\n",
        "print(example_train_vectors)"
      ],
      "execution_count": null,
      "outputs": [
        {
          "output_type": "stream",
          "text": [
            "['Our Deeds are the Reason of this #earthquake May ALLAH Forgive us all'\n",
            " 'Forest fire near La Ronge Sask. Canada'\n",
            " \"All residents asked to 'shelter in place' are being notified by officers. No other evacuation or shelter in place orders are expected\"\n",
            " '13,000 people receive #wildfires evacuation orders in California '\n",
            " 'Just got sent this photo from Ruby #Alaska as smoke from #wildfires pours into a school ']\n",
            "['000', '13', 'alaska', 'all', 'allah', 'are', 'as', 'asked', 'being', 'by', 'california', 'canada', 'deeds', 'earthquake', 'evacuation', 'expected', 'fire', 'forest', 'forgive', 'from', 'got', 'in', 'into', 'just', 'la', 'may', 'near', 'no', 'notified', 'of', 'officers', 'or', 'orders', 'other', 'our', 'people', 'photo', 'place', 'pours', 'reason', 'receive', 'residents', 'ronge', 'ruby', 'sask', 'school', 'sent', 'shelter', 'smoke', 'the', 'this', 'to', 'us', 'wildfires']\n",
            "{'our': 34, 'deeds': 12, 'are': 5, 'the': 49, 'reason': 39, 'of': 29, 'this': 50, 'earthquake': 13, 'may': 25, 'allah': 4, 'forgive': 18, 'us': 52, 'all': 3, 'forest': 17, 'fire': 16, 'near': 26, 'la': 24, 'ronge': 42, 'sask': 44, 'canada': 11, 'residents': 41, 'asked': 7, 'to': 51, 'shelter': 47, 'in': 21, 'place': 37, 'being': 8, 'notified': 28, 'by': 9, 'officers': 30, 'no': 27, 'other': 33, 'evacuation': 14, 'or': 31, 'orders': 32, 'expected': 15, '13': 1, '000': 0, 'people': 35, 'receive': 40, 'wildfires': 53, 'california': 10, 'just': 23, 'got': 20, 'sent': 46, 'photo': 36, 'from': 19, 'ruby': 43, 'alaska': 2, 'as': 6, 'smoke': 48, 'pours': 38, 'into': 22, 'school': 45}\n",
            "  (0, 34)\t1\n",
            "  (0, 12)\t1\n",
            "  (0, 5)\t1\n",
            "  (0, 49)\t1\n",
            "  (0, 39)\t1\n",
            "  (0, 29)\t1\n",
            "  (0, 50)\t1\n",
            "  (0, 13)\t1\n",
            "  (0, 25)\t1\n",
            "  (0, 4)\t1\n",
            "  (0, 18)\t1\n",
            "  (0, 52)\t1\n",
            "  (0, 3)\t1\n",
            "  (1, 17)\t1\n",
            "  (1, 16)\t1\n",
            "  (1, 26)\t1\n",
            "  (1, 24)\t1\n",
            "  (1, 42)\t1\n",
            "  (1, 44)\t1\n",
            "  (1, 11)\t1\n",
            "  (2, 5)\t2\n",
            "  (2, 3)\t1\n",
            "  (2, 41)\t1\n",
            "  (2, 7)\t1\n",
            "  (2, 51)\t1\n",
            "  :\t:\n",
            "  (2, 32)\t1\n",
            "  (2, 15)\t1\n",
            "  (3, 21)\t1\n",
            "  (3, 14)\t1\n",
            "  (3, 32)\t1\n",
            "  (3, 1)\t1\n",
            "  (3, 0)\t1\n",
            "  (3, 35)\t1\n",
            "  (3, 40)\t1\n",
            "  (3, 53)\t1\n",
            "  (3, 10)\t1\n",
            "  (4, 50)\t1\n",
            "  (4, 53)\t1\n",
            "  (4, 23)\t1\n",
            "  (4, 20)\t1\n",
            "  (4, 46)\t1\n",
            "  (4, 36)\t1\n",
            "  (4, 19)\t2\n",
            "  (4, 43)\t1\n",
            "  (4, 2)\t1\n",
            "  (4, 6)\t1\n",
            "  (4, 48)\t1\n",
            "  (4, 38)\t1\n",
            "  (4, 22)\t1\n",
            "  (4, 45)\t1\n"
          ],
          "name": "stdout"
        }
      ]
    },
    {
      "cell_type": "code",
      "metadata": {
        "id": "KkOw3WQlqodJ",
        "outputId": "0b6afd37-55dd-4a5c-edee-c430e6ce81ec"
      },
      "source": [
        "## we use .todense() here because these vectors are \"sparse\" (only non-zero elements are kept to save space)\n",
        "print(example_train_vectors[0].todense().shape)\n",
        "print(example_train_vectors[0].todense())"
      ],
      "execution_count": null,
      "outputs": [
        {
          "output_type": "stream",
          "text": [
            "(1, 54)\n",
            "[[0 0 0 1 1 1 0 0 0 0 0 0 1 1 0 0 0 0 1 0 0 0 0 0 0 1 0 0 0 1 0 0 0 0 1 0\n",
            "  0 0 0 1 0 0 0 0 0 0 0 0 0 1 1 0 1 0]]\n"
          ],
          "name": "stdout"
        }
      ]
    },
    {
      "cell_type": "markdown",
      "metadata": {
        "id": "dnf5nr7ZqodK"
      },
      "source": [
        "The above tells us that:\n",
        "1. There are 54 unique words (or \"tokens\") in the first five tweets.\n",
        "2. The first tweet contains only some of those unique tokens - all of the non-zero counts above are the tokens that DO exist in the first tweet.\n",
        "\n",
        "Now let's create vectors for all of our tweets."
      ]
    },
    {
      "cell_type": "code",
      "metadata": {
        "id": "m5SIfh4DqodK"
      },
      "source": [
        "train_vectors = count_vectorizer.fit_transform(train_df[\"text\"])\n",
        "\n",
        "## note that we're NOT using .fit_transform() here. Using just .transform() makes sure\n",
        "# that the tokens in the train vectors are the only ones mapped to the test vectors - \n",
        "# i.e. that the train and test vectors use the same set of tokens.\n",
        "test_vectors = count_vectorizer.transform(test_df[\"text\"])"
      ],
      "execution_count": null,
      "outputs": []
    },
    {
      "cell_type": "markdown",
      "metadata": {
        "id": "i9ebR3KjqodK"
      },
      "source": [
        "### Our model\n",
        "\n",
        "As we mentioned above, we think the words contained in each tweet are a good indicator of whether they're about a real disaster or not. The presence of particular word (or set of words) in a tweet might link directly to whether or not that tweet is real.\n",
        "\n",
        "What we're assuming here is a _linear_ connection. So let's build a linear model and see!"
      ]
    },
    {
      "cell_type": "code",
      "metadata": {
        "id": "LICUxmPIqodK"
      },
      "source": [
        "## Our vectors are really big, so we want to push our model's weights\n",
        "## toward 0 without completely discounting different words - ridge regression \n",
        "## is a good way to do this.\n",
        "clf = linear_model.RidgeClassifier()"
      ],
      "execution_count": null,
      "outputs": []
    },
    {
      "cell_type": "markdown",
      "metadata": {
        "id": "qmzytXJUqodL"
      },
      "source": [
        "Let's test our model and see how well it does on the training data. For this we'll use `cross-validation` - where we train on a portion of the known data, then validate it with the rest. If we do this several times (with different portions) we can get a good idea for how a particular model or method performs.\n",
        "\n",
        "The metric for this competition is F1, so let's use that here."
      ]
    },
    {
      "cell_type": "code",
      "metadata": {
        "id": "VR6uFOH0qodL",
        "outputId": "dc978646-2aaa-4816-e5ae-2e9fe384456a"
      },
      "source": [
        "scores = model_selection.cross_val_score(clf, train_vectors, train_df[\"target\"], cv=3, scoring=\"f1\")\n",
        "scores"
      ],
      "execution_count": null,
      "outputs": [
        {
          "output_type": "execute_result",
          "data": {
            "text/plain": [
              "array([0.60387232, 0.57580105, 0.64485082])"
            ]
          },
          "metadata": {
            "tags": []
          },
          "execution_count": 12
        }
      ]
    },
    {
      "cell_type": "markdown",
      "metadata": {
        "id": "_3B5FR_cqodL"
      },
      "source": [
        "The above scores aren't terrible! It looks like our assumption will score roughly 0.65 on the leaderboard. There are lots of ways to potentially improve on this (TFIDF, LSA, LSTM / RNNs, the list is long!) - give any of them a shot!\n",
        "\n",
        "In the meantime, let's do predictions on our training set and build a submission for the competition."
      ]
    },
    {
      "cell_type": "code",
      "metadata": {
        "id": "NzLvRqbGqodL",
        "outputId": "b5478e7c-218f-4735-932b-c71a3e17914d"
      },
      "source": [
        "clf.fit(train_vectors, train_df[\"target\"])"
      ],
      "execution_count": null,
      "outputs": [
        {
          "output_type": "execute_result",
          "data": {
            "text/plain": [
              "RidgeClassifier(alpha=1.0, class_weight=None, copy_X=True, fit_intercept=True,\n",
              "                max_iter=None, normalize=False, random_state=None,\n",
              "                solver='auto', tol=0.001)"
            ]
          },
          "metadata": {
            "tags": []
          },
          "execution_count": 13
        }
      ]
    },
    {
      "cell_type": "code",
      "metadata": {
        "id": "9IT-j26VqodM"
      },
      "source": [
        "sample_submission = pd.read_csv(\"/kaggle/input/nlp-getting-started/sample_submission.csv\")"
      ],
      "execution_count": null,
      "outputs": []
    },
    {
      "cell_type": "code",
      "metadata": {
        "id": "O2XuZh4iqodM"
      },
      "source": [
        "sample_submission[\"target\"] = clf.predict(test_vectors)"
      ],
      "execution_count": null,
      "outputs": []
    },
    {
      "cell_type": "code",
      "metadata": {
        "id": "fGGXG5sCqodM",
        "outputId": "233f8e31-0cfd-41e2-a7e5-3745d1004f7b"
      },
      "source": [
        "sample_submission.head()"
      ],
      "execution_count": null,
      "outputs": [
        {
          "output_type": "execute_result",
          "data": {
            "text/html": [
              "<div>\n",
              "<style scoped>\n",
              "    .dataframe tbody tr th:only-of-type {\n",
              "        vertical-align: middle;\n",
              "    }\n",
              "\n",
              "    .dataframe tbody tr th {\n",
              "        vertical-align: top;\n",
              "    }\n",
              "\n",
              "    .dataframe thead th {\n",
              "        text-align: right;\n",
              "    }\n",
              "</style>\n",
              "<table border=\"1\" class=\"dataframe\">\n",
              "  <thead>\n",
              "    <tr style=\"text-align: right;\">\n",
              "      <th></th>\n",
              "      <th>id</th>\n",
              "      <th>target</th>\n",
              "    </tr>\n",
              "  </thead>\n",
              "  <tbody>\n",
              "    <tr>\n",
              "      <th>0</th>\n",
              "      <td>0</td>\n",
              "      <td>0</td>\n",
              "    </tr>\n",
              "    <tr>\n",
              "      <th>1</th>\n",
              "      <td>2</td>\n",
              "      <td>1</td>\n",
              "    </tr>\n",
              "    <tr>\n",
              "      <th>2</th>\n",
              "      <td>3</td>\n",
              "      <td>1</td>\n",
              "    </tr>\n",
              "    <tr>\n",
              "      <th>3</th>\n",
              "      <td>9</td>\n",
              "      <td>0</td>\n",
              "    </tr>\n",
              "    <tr>\n",
              "      <th>4</th>\n",
              "      <td>11</td>\n",
              "      <td>1</td>\n",
              "    </tr>\n",
              "  </tbody>\n",
              "</table>\n",
              "</div>"
            ],
            "text/plain": [
              "   id  target\n",
              "0   0       0\n",
              "1   2       1\n",
              "2   3       1\n",
              "3   9       0\n",
              "4  11       1"
            ]
          },
          "metadata": {
            "tags": []
          },
          "execution_count": 16
        }
      ]
    },
    {
      "cell_type": "code",
      "metadata": {
        "id": "Vf6TF8BOqodM"
      },
      "source": [
        "sample_submission.to_csv(\"submission.csv\", index=False)"
      ],
      "execution_count": null,
      "outputs": []
    }
  ]
}